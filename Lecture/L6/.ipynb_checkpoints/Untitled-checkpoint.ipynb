{
 "cells": [
  {
   "cell_type": "code",
   "execution_count": 15,
   "metadata": {
    "collapsed": false
   },
   "outputs": [
    {
     "data": {
      "text/plain": [
       "defined \u001b[32mfunction \u001b[36mNQ\u001b[0m\n",
       "defined \u001b[32mfunction \u001b[36mtime\u001b[0m\n",
       "defined \u001b[32mfunction \u001b[36mshow\u001b[0m\n",
       "\u001b[36mres11_3\u001b[0m: \u001b[32mSet\u001b[0m[\u001b[32mString\u001b[0m] = \u001b[33mSet\u001b[0m(\n",
       "  \u001b[32m\"\"\"\n",
       "  \n",
       "* * * * * * * X * *   \n",
       "* * * * * X * * * *   \n",
       "X * * * * * * * * *   \n",
       "* * X * * * * * * *   \n",
       "* * * * * * X * * *   \n",
       "* * * * * * * * X *   \n",
       "* * * X * * * * * *   \n",
       "* X * * * * * * * *   \n",
       "* * * * X * * * * *   \n",
       "* * * * * * * * * X \n",
       "  \"\"\"\u001b[0m,\n",
       "  \u001b[32m\"\"\"\n",
       "\u001b[33m...\u001b[0m"
      ]
     },
     "metadata": {},
     "output_type": "display_data"
    }
   ],
   "source": [
    "def NQ(n: Int) : Set[List[Int]] = {\n",
    "    def placeQueens(k: Int) : Set[List[Int]] =\n",
    "        if (k == 0) Set(List())\n",
    "        else \n",
    "            for {\n",
    "                queens <- placeQueens(k - 1)\n",
    "                col <- 0 until n\n",
    "                if isSafe(col, queens)\n",
    "            } yield col :: queens\n",
    "    \n",
    "    /*\n",
    "    def isSafe(col: Int, queens: List[Int]) : Boolean = {\n",
    "        def iter(q: List[Int], row: Int) : Boolean =\n",
    "            if (q.isEmpty) true\n",
    "            else \n",
    "                if (q.head == col || (math.abs(q.head-col) == row-q.length+1) ) false\n",
    "                else iter(q.tail, row)\n",
    "        \n",
    "        iter(queens, queens.length)\n",
    "    }\n",
    "    */\n",
    "    \n",
    "    \n",
    "    \n",
    "    \n",
    "    def isSafe(col: Int, queens: List[Int]) : Boolean = {\n",
    "        val row = queens.length\n",
    "        val queenWithRow = (row - 1 to 0 by -1) zip queens\n",
    "        queenWithRow forall {\n",
    "            case (r, c) => col != c && math.abs(col-c) != row - r\n",
    "        }\n",
    "    }\n",
    "    \n",
    "    \n",
    "    \n",
    "    placeQueens(n)   \n",
    "}\n",
    "\n",
    "def time[R](block: => R): R = {  \n",
    "    val t0 = System.nanoTime()\n",
    "    val result = block    // call-by-name\n",
    "    val t1 = System.nanoTime()\n",
    "    println(\"Elapsed time: \" + (t1 - t0)/1000000.0 + \"s\")\n",
    "    result\n",
    "}\n",
    "\n",
    "def show(queens: List[Int]) = {\n",
    "    val lines = \n",
    "        for (col <- queens.reverse)\n",
    "        yield Vector.fill(queens.length)(\"* \").updated(col, \"X \").mkString\n",
    "    \"\\n\" + (lines mkString \"\\n\")\n",
    "}\n",
    "\n",
    "NQ(10) take 3 map show"
   ]
  },
  {
   "cell_type": "code",
   "execution_count": 24,
   "metadata": {
    "collapsed": false
   },
   "outputs": [
    {
     "name": "stdout",
     "output_type": "stream",
     "text": [
      "6.2x^5 + 11.0x^3 + 2.0x^1 + 3.0x^0\n"
     ]
    },
    {
     "data": {
      "text/plain": [
       "defined \u001b[32mobject \u001b[36mpolynomials\u001b[0m\n",
       "\u001b[36mres16_1\u001b[0m: \u001b[32m$user\u001b[0m.\u001b[32mpolynomials\u001b[0m.type = cmd16$$user$polynomials$@713b2213"
      ]
     },
     "metadata": {},
     "output_type": "display_data"
    }
   ],
   "source": [
    "object polynomials {\n",
    "    class Poly(val terms: Map[Int, Double]) {\n",
    "        def + (other: Poly) = new Poly(terms ++ (other.terms map adjust))\n",
    "        \n",
    "        def adjust(term: (Int, Double)) : (Int, Double) = {\n",
    "            val (exp, coeff) = term\n",
    "            terms get exp match {\n",
    "                case Some(coeff1) => exp -> (coeff + coeff1)\n",
    "                case None => exp -> coeff\n",
    "            }\n",
    "        }\n",
    "        \n",
    "        override def toString = \n",
    "            (for ((exp, coeef) <- terms.toList.sorted.reverse) yield coeef + \"x^\" + exp) mkString \" + \"\n",
    "    }\n",
    "    \n",
    "    val p1 = new Poly(Map(1 -> 2.0, 3 -> 4.0, 5 -> 6.2))\n",
    "    val p2 = new Poly(Map(0 -> 3.0, 3 -> 7.0))\n",
    "    println((p1 + p2).toString)\n",
    "}\n",
    "\n",
    "polynomials"
   ]
  },
  {
   "cell_type": "code",
   "execution_count": 26,
   "metadata": {
    "collapsed": false
   },
   "outputs": [
    {
     "name": "stdout",
     "output_type": "stream",
     "text": [
      "6.2x^5 + 11.0x^3 + 2.0x^1 + 3.0x^0\n"
     ]
    },
    {
     "data": {
      "text/plain": [
       "defined \u001b[32mobject \u001b[36mpolynomials1\u001b[0m\n",
       "\u001b[36mres18_1\u001b[0m: \u001b[32m$user\u001b[0m.\u001b[32mpolynomials1\u001b[0m.type = cmd18$$user$polynomials1$@1375dcb9"
      ]
     },
     "metadata": {},
     "output_type": "display_data"
    }
   ],
   "source": [
    "object polynomials1 {\n",
    "    class Poly(term0: Map[Int, Double]) {\n",
    "        def this(bindings: (Int, Double)*) = this(bindings.toMap)\n",
    "        val terms = term0 withDefaultValue 0.0\n",
    "        def + (other: Poly) = new Poly(terms ++ (other.terms map adjust))\n",
    "        def adjust(term: (Int, Double)) : (Int, Double) = {\n",
    "            val (exp, coeff) = term\n",
    "            exp -> (coeff + terms(exp))\n",
    "        }\n",
    "        \n",
    "        override def toString = \n",
    "            (for ((exp, coeef) <- terms.toList.sorted.reverse) yield coeef + \"x^\" + exp) mkString \" + \"\n",
    "    }\n",
    "    \n",
    "    val p1 = new Poly(1 -> 2.0, 3 -> 4.0, 5 -> 6.2)\n",
    "    val p2 = new Poly(0 -> 3.0, 3 -> 7.0)\n",
    "    println((p1 + p2).toString)\n",
    "}\n",
    "\n",
    "polynomials1"
   ]
  },
  {
   "cell_type": "code",
   "execution_count": 37,
   "metadata": {
    "collapsed": false
   },
   "outputs": [
    {
     "name": "stdout",
     "output_type": "stream",
     "text": [
      "Set(sack air fun, pack ah re to, pack bird to, Scala ire to, Scala is fun, rack ah re to, pack air fun, sack bird to, rack bird to, sack ah re to, rack air fun)\n"
     ]
    },
    {
     "data": {
      "text/plain": [
       "\u001b[32mimport \u001b[36mscala.io.Source\u001b[0m\n",
       "defined \u001b[32mobject \u001b[36mx\u001b[0m\n",
       "\u001b[36mres28_2\u001b[0m: \u001b[32m$user\u001b[0m.\u001b[32mx\u001b[0m.type = cmd28$$user$x$@6df8132e"
      ]
     },
     "metadata": {},
     "output_type": "display_data"
    }
   ],
   "source": [
    "import scala.io.Source\n",
    "\n",
    "object x {\n",
    "    val in = Source.fromURL(\"http://lamp.epfl.ch/files/content/sites/lamp/files/teaching/progfun/linuxwords.txt\")\n",
    "    val words = in.getLines.toList filter (word => word forall (chr => chr.isLetter))\n",
    "    val mnem = Map('2' -> \"ABC\", '3' -> \"DEF\", '4' -> \"GHI\", '5' -> \"JKL\",\n",
    "                   '6' -> \"MNO\", '7' -> \"PQRS\",'8' -> \"TUV\", '9' -> \"WXYZ\")\n",
    "    \n",
    "    val charCode: Map[Char, Char] = \n",
    "        for ((digit, str) <- mnem; ltr <- str) yield ltr -> digit\n",
    "    \n",
    "    def wordCode(word: String) : String =\n",
    "        word.toUpperCase.map(charCode)\n",
    "    \n",
    "    def wordsForNum : Map[String, Seq[String]] =\n",
    "        // word \"Java\" -> 5282, and all words -> 5282 will in same group\n",
    "        words groupBy wordCode withDefaultValue Seq()\n",
    "    \n",
    "    def encode(number: String) : Set[List[String]] =\n",
    "        if (number.isEmpty) Set(List())\n",
    "        else {\n",
    "            for {\n",
    "                split <- 1 to number.length\n",
    "                word <- wordsForNum(number take split)\n",
    "                rest <- encode(number drop split)\n",
    "            } yield word :: rest\n",
    "        }.toSet\n",
    "    \n",
    "    def translate(number: String) : Set[String] =\n",
    "        encode(number) map (_ mkString \" \")\n",
    "    \n",
    "    println(translate(\"7225247386\"))\n",
    "    \n",
    "   // println(wordCode(\"Java\"))\n",
    "}\n",
    "\n",
    "x"
   ]
  },
  {
   "cell_type": "code",
   "execution_count": 48,
   "metadata": {
    "collapsed": false
   },
   "outputs": [
    {
     "data": {
      "text/plain": [
       "\u001b[36ma\u001b[0m: \u001b[32mString\u001b[0m = \u001b[32m\"fellow\"\u001b[0m\n",
       "\u001b[36mres32_1\u001b[0m: \u001b[32mMap\u001b[0m[\u001b[32mChar\u001b[0m, \u001b[32mInt\u001b[0m] = \u001b[33mMap\u001b[0m(\n",
       "  \u001b[32m'E'\u001b[0m -> \u001b[32m1\u001b[0m,\n",
       "  \u001b[32m'F'\u001b[0m -> \u001b[32m1\u001b[0m,\n",
       "  \u001b[32m'L'\u001b[0m -> \u001b[32m2\u001b[0m,\n",
       "  \u001b[32m'W'\u001b[0m -> \u001b[32m1\u001b[0m,\n",
       "  \u001b[32m'O'\u001b[0m -> \u001b[32m1\u001b[0m\n",
       ")"
      ]
     },
     "metadata": {},
     "output_type": "display_data"
    }
   ],
   "source": [
    "val a = \"fellow\"\n",
    "(a.toUpperCase groupBy (identity)).map(e => e._1 -> e._2.length)"
   ]
  },
  {
   "cell_type": "code",
   "execution_count": null,
   "metadata": {
    "collapsed": true
   },
   "outputs": [],
   "source": []
  }
 ],
 "metadata": {
  "kernelspec": {
   "display_name": "Scala 2.11",
   "language": "scala211",
   "name": "scala211"
  },
  "language_info": {
   "codemirror_mode": "text/x-scala",
   "file_extension": ".scala",
   "mimetype": "text/x-scala",
   "name": "scala211",
   "pygments_lexer": "scala",
   "version": "2.11.6"
  }
 },
 "nbformat": 4,
 "nbformat_minor": 0
}
